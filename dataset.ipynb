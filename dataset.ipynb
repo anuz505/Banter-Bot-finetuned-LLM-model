{
 "cells": [
  {
   "cell_type": "code",
   "execution_count": 10,
   "id": "6fe7bc80",
   "metadata": {},
   "outputs": [],
   "source": [
    "!pip install -q datasets\n"
   ]
  },
  {
   "cell_type": "code",
   "execution_count": null,
   "id": "171b3871",
   "metadata": {},
   "outputs": [],
   "source": []
  },
  {
   "cell_type": "code",
   "execution_count": 11,
   "id": "c66f1386",
   "metadata": {},
   "outputs": [
    {
     "data": {
      "application/vnd.jupyter.widget-view+json": {
       "model_id": "3917f95653174161883cabcf4151c0d9",
       "version_major": 2,
       "version_minor": 0
      },
      "text/plain": [
       "Map:   0%|          | 0/2000 [00:00<?, ? examples/s]"
      ]
     },
     "metadata": {},
     "output_type": "display_data"
    },
    {
     "name": "stdout",
     "output_type": "stream",
     "text": [
      "<s>[INST] I was going to post a time traveling joke, but you guys didn’t like it. [/INST] Well I laughed the first time I read it. </s>\n"
     ]
    }
   ],
   "source": [
    "from datasets import load_dataset\n",
    "import re\n",
    "\n",
    "DATASET = load_dataset(\"ZSvedic/humor-chains\")\n",
    "\n",
    "DATASET = DATASET[\"train\"].shuffle(seed=25).select(range(2000))\n",
    "\n",
    "def transform_conv(example):\n",
    "  conversation = example[\"conversations\"]\n",
    "  reformatted_segments = []\n",
    "  i = 0\n",
    "  while i < len(conversation):\n",
    "      if conversation[i][\"from\"] == \"human\":\n",
    "          human_text = conversation[i][\"value\"]\n",
    "\n",
    "          # Check if GPT follows\n",
    "          if i + 1 < len(conversation) and conversation[i+1][\"from\"] == \"gpt\":\n",
    "              assistant_text = conversation[i+1][\"value\"]\n",
    "              reformatted_segments.append(f\"<s>[INST] {human_text} [/INST] {assistant_text} </s>\")\n",
    "              i += 2  # Skip assistant\n",
    "          else:\n",
    "              # Human only\n",
    "              reformatted_segments.append(f\"<s>[INST] {human_text} [/INST] </s>\")\n",
    "              i += 1\n",
    "      else:\n",
    "          i += 1  # Skip stray GPT if any\n",
    "\n",
    "  return {\"text\": \"\".join(reformatted_segments)}\n",
    "\n",
    "# Apply transformation\n",
    "transformed_dataset = DATASET.map(transform_conv)\n",
    "\n",
    "# Keep only the text column\n",
    "transformed_dataset = transformed_dataset.select_columns([\"text\"])\n",
    "\n",
    "# Check result\n",
    "print(transformed_dataset[0][\"text\"])\n"
   ]
  },
  {
   "cell_type": "code",
   "execution_count": 12,
   "id": "a5fdf4a5",
   "metadata": {},
   "outputs": [
    {
     "data": {
      "application/vnd.jupyter.widget-view+json": {
       "model_id": "72587f96e0de4caba2c36277f1157c9c",
       "version_major": 2,
       "version_minor": 0
      },
      "text/plain": [
       "Uploading the dataset shards:   0%|          | 0/1 [00:00<?, ? shards/s]"
      ]
     },
     "metadata": {},
     "output_type": "display_data"
    },
    {
     "data": {
      "application/vnd.jupyter.widget-view+json": {
       "model_id": "aa4581cff1b046739dd1b0f67b28fc56",
       "version_major": 2,
       "version_minor": 0
      },
      "text/plain": [
       "Creating parquet from Arrow format:   0%|          | 0/2 [00:00<?, ?ba/s]"
      ]
     },
     "metadata": {},
     "output_type": "display_data"
    },
    {
     "data": {
      "application/vnd.jupyter.widget-view+json": {
       "model_id": "d7ae428401314580a932ae41bfa5cfd5",
       "version_major": 2,
       "version_minor": 0
      },
      "text/plain": [
       "README.md:   0%|          | 0.00/271 [00:00<?, ?B/s]"
      ]
     },
     "metadata": {},
     "output_type": "display_data"
    },
    {
     "data": {
      "text/plain": [
       "CommitInfo(commit_url='https://huggingface.co/datasets/anuzb/humorchains-llama2-1k/commit/a51a6007bf970bff077a8b6183c8ee3bb39ff72a', commit_message='Upload dataset', commit_description='', oid='a51a6007bf970bff077a8b6183c8ee3bb39ff72a', pr_url=None, repo_url=RepoUrl('https://huggingface.co/datasets/anuzb/humorchains-llama2-1k', endpoint='https://huggingface.co', repo_type='dataset', repo_id='anuzb/humorchains-llama2-1k'), pr_revision=None, pr_num=None)"
      ]
     },
     "execution_count": 12,
     "metadata": {},
     "output_type": "execute_result"
    }
   ],
   "source": [
    "transformed_dataset.push_to_hub(\"humorchains-llama2-1k\")"
   ]
  },
  {
   "cell_type": "code",
   "execution_count": null,
   "id": "6b66782f",
   "metadata": {},
   "outputs": [],
   "source": []
  }
 ],
 "metadata": {
  "kernelspec": {
   "display_name": "myvenv",
   "language": "python",
   "name": "python3"
  },
  "language_info": {
   "codemirror_mode": {
    "name": "ipython",
    "version": 3
   },
   "file_extension": ".py",
   "mimetype": "text/x-python",
   "name": "python",
   "nbconvert_exporter": "python",
   "pygments_lexer": "ipython3",
   "version": "3.13.7"
  }
 },
 "nbformat": 4,
 "nbformat_minor": 5
}
